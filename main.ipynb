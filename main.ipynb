{
 "cells": [
  {
   "cell_type": "code",
   "execution_count": 38,
   "metadata": {},
   "outputs": [],
   "source": [
    "import pandas as pd\n",
    "import numpy as np"
   ]
  },
  {
   "cell_type": "markdown",
   "metadata": {},
   "source": [
    "# Datatset Preparation"
   ]
  },
  {
   "cell_type": "code",
   "execution_count": 39,
   "metadata": {},
   "outputs": [],
   "source": [
    "train_url= 'https://raw.githubusercontent.com/clairett/pytorch-sentiment-classification/master/data/SST2/train.tsv'\n",
    "test_url= 'https://raw.githubusercontent.com/clairett/pytorch-sentiment-classification/master/data/SST2/test.tsv'"
   ]
  },
  {
   "cell_type": "code",
   "execution_count": 40,
   "metadata": {},
   "outputs": [
    {
     "data": {
      "text/html": [
       "<div>\n",
       "<style scoped>\n",
       "    .dataframe tbody tr th:only-of-type {\n",
       "        vertical-align: middle;\n",
       "    }\n",
       "\n",
       "    .dataframe tbody tr th {\n",
       "        vertical-align: top;\n",
       "    }\n",
       "\n",
       "    .dataframe thead th {\n",
       "        text-align: right;\n",
       "    }\n",
       "</style>\n",
       "<table border=\"1\" class=\"dataframe\">\n",
       "  <thead>\n",
       "    <tr style=\"text-align: right;\">\n",
       "      <th></th>\n",
       "      <th>sentence</th>\n",
       "      <th>label</th>\n",
       "    </tr>\n",
       "  </thead>\n",
       "  <tbody>\n",
       "    <tr>\n",
       "      <th>0</th>\n",
       "      <td>a stirring , funny and finally transporting re...</td>\n",
       "      <td>1</td>\n",
       "    </tr>\n",
       "    <tr>\n",
       "      <th>1</th>\n",
       "      <td>apparently reassembled from the cutting room f...</td>\n",
       "      <td>0</td>\n",
       "    </tr>\n",
       "    <tr>\n",
       "      <th>2</th>\n",
       "      <td>they presume their audience wo n't sit still f...</td>\n",
       "      <td>0</td>\n",
       "    </tr>\n",
       "    <tr>\n",
       "      <th>3</th>\n",
       "      <td>this is a visually stunning rumination on love...</td>\n",
       "      <td>1</td>\n",
       "    </tr>\n",
       "    <tr>\n",
       "      <th>4</th>\n",
       "      <td>jonathan parker 's bartleby should have been t...</td>\n",
       "      <td>1</td>\n",
       "    </tr>\n",
       "  </tbody>\n",
       "</table>\n",
       "</div>"
      ],
      "text/plain": [
       "                                            sentence  label\n",
       "0  a stirring , funny and finally transporting re...      1\n",
       "1  apparently reassembled from the cutting room f...      0\n",
       "2  they presume their audience wo n't sit still f...      0\n",
       "3  this is a visually stunning rumination on love...      1\n",
       "4  jonathan parker 's bartleby should have been t...      1"
      ]
     },
     "execution_count": 40,
     "metadata": {},
     "output_type": "execute_result"
    }
   ],
   "source": [
    "df_train = pd.read_csv(train_url, sep='\\t', names=['sentence','label'], header=None)\n",
    "df_test  = pd.read_csv(test_url,  sep='\\t', names=['sentence','label'], header=None)\n",
    "df_train.label = df_train.label.astype(int)\n",
    "df_test.label  = df_test.label.astype(int)\n",
    "\n",
    "df_train.head()"
   ]
  },
  {
   "cell_type": "code",
   "execution_count": 41,
   "metadata": {},
   "outputs": [
    {
     "data": {
      "text/html": [
       "<div>\n",
       "<style scoped>\n",
       "    .dataframe tbody tr th:only-of-type {\n",
       "        vertical-align: middle;\n",
       "    }\n",
       "\n",
       "    .dataframe tbody tr th {\n",
       "        vertical-align: top;\n",
       "    }\n",
       "\n",
       "    .dataframe thead th {\n",
       "        text-align: right;\n",
       "    }\n",
       "</style>\n",
       "<table border=\"1\" class=\"dataframe\">\n",
       "  <thead>\n",
       "    <tr style=\"text-align: right;\">\n",
       "      <th></th>\n",
       "      <th>sentence</th>\n",
       "      <th>label</th>\n",
       "    </tr>\n",
       "  </thead>\n",
       "  <tbody>\n",
       "    <tr>\n",
       "      <th>0</th>\n",
       "      <td>no movement , no yuks , not much of anything</td>\n",
       "      <td>0</td>\n",
       "    </tr>\n",
       "    <tr>\n",
       "      <th>1</th>\n",
       "      <td>a gob of drivel so sickly sweet , even the eag...</td>\n",
       "      <td>0</td>\n",
       "    </tr>\n",
       "    <tr>\n",
       "      <th>2</th>\n",
       "      <td>gangs of new york is an unapologetic mess , wh...</td>\n",
       "      <td>0</td>\n",
       "    </tr>\n",
       "    <tr>\n",
       "      <th>3</th>\n",
       "      <td>we never really feel involved with the story ,...</td>\n",
       "      <td>0</td>\n",
       "    </tr>\n",
       "    <tr>\n",
       "      <th>4</th>\n",
       "      <td>this is one of polanski 's best films</td>\n",
       "      <td>1</td>\n",
       "    </tr>\n",
       "  </tbody>\n",
       "</table>\n",
       "</div>"
      ],
      "text/plain": [
       "                                            sentence  label\n",
       "0       no movement , no yuks , not much of anything      0\n",
       "1  a gob of drivel so sickly sweet , even the eag...      0\n",
       "2  gangs of new york is an unapologetic mess , wh...      0\n",
       "3  we never really feel involved with the story ,...      0\n",
       "4              this is one of polanski 's best films      1"
      ]
     },
     "execution_count": 41,
     "metadata": {},
     "output_type": "execute_result"
    }
   ],
   "source": [
    "df_test.head()"
   ]
  },
  {
   "cell_type": "code",
   "execution_count": 51,
   "metadata": {},
   "outputs": [],
   "source": [
    "from sklearn.model_selection import train_test_split\n",
    "# from sklearn.feature_extraction.text import TfidfVectorizer\n",
    "\n",
    "train_s,val_s, train_l,val_l= train_test_split(df_train.sentence.tolist(),df_train.label.tolist(),test_size=0.2,random_state=42,stratify=df_train.label)\n",
    "\n",
    "# vectorizer= TfidfVectorizer(max_features=5000)\n",
    "# X_train= vectorizer.fit_transform(train_s).toarray()\n",
    "# X_val= vectorizer.transform(val_s).toarray()\n",
    "# X_test= vectorizer.transform(df_test.sentence.tolist()).toarray()\n",
    "\n",
    "# y_train= np.array(train_l)\n",
    "# y_val= np.array(val_l)\n",
    "# y_test= df_test.label.values\n",
    "\n",
    "import torch\n",
    "from transformers import AutoTokenizer, AutoModel\n",
    "import numpy as np\n",
    "\n",
    "tokenizer= AutoTokenizer.from_pretrained('bert-base-uncased')\n",
    "bert= AutoModel.from_pretrained('bert-base-uncased')\n",
    "bert.eval()    \n",
    "device= torch.device('cuda' if torch.cuda.is_available() else 'cpu')\n",
    "bert.to(device)\n",
    "\n",
    "\n",
    "def embed_sentences(sentences, batch_size=32):\n",
    "    all_embeds = []\n",
    "    for i in range(0, len(sentences), batch_size):\n",
    "        batch = sentences[i:i+batch_size]\n",
    "        encoded = tokenizer(batch, padding=True, truncation=True,return_tensors='pt',max_length=128).to(device)\n",
    "\n",
    "        with torch.no_grad():\n",
    "            output = bert(**encoded)         \n",
    "            last_hidden = output.last_hidden_state \n",
    "\n",
    "        # Mean‑pool (mask out padding tokens)\n",
    "        mask = encoded['attention_mask'].unsqueeze(-1) \n",
    "        summed = (last_hidden * mask).sum(dim=1)        \n",
    "        counts = mask.sum(dim=1)                        \n",
    "        embeds = summed / counts                    \n",
    "\n",
    "        all_embeds.append(embeds.cpu().numpy())\n",
    "\n",
    "    return np.vstack(all_embeds)  # (N, 768)\n",
    "\n",
    "X_train= embed_sentences(train_s,batch_size=16)\n",
    "X_val= embed_sentences(val_s,batch_size=16)\n",
    "X_test= embed_sentences(df_test.sentence.tolist(), batch_size=16)\n",
    "\n",
    "# Labels stay the same:\n",
    "y_train = np.array(train_l)\n",
    "y_val   = np.array(val_l)\n",
    "y_test  = df_test.label.values"
   ]
  },
  {
   "cell_type": "code",
   "execution_count": 53,
   "metadata": {},
   "outputs": [],
   "source": [
    "from torch.utils.data import DataLoader, TensorDataset\n",
    "\n",
    "batch_size= 32\n",
    "train_ds= TensorDataset(torch.from_numpy(X_train).float(),torch.from_numpy(y_train).long())\n",
    "val_ds= TensorDataset(torch.from_numpy(X_val).float(),torch.from_numpy(y_val).long())\n",
    "test_ds= TensorDataset(torch.from_numpy(X_test).float(),torch.from_numpy(y_test).long())\n",
    "\n",
    "train_loader= DataLoader(train_ds,batch_size=batch_size, shuffle=True)\n",
    "val_loader= DataLoader(val_ds,batch_size=batch_size)\n",
    "test_loader= DataLoader(test_ds,batch_size=batch_size)"
   ]
  },
  {
   "cell_type": "markdown",
   "metadata": {},
   "source": [
    "# Construct a Multi-Layer Perceptron (MLP) model."
   ]
  },
  {
   "cell_type": "code",
   "execution_count": 54,
   "metadata": {},
   "outputs": [
    {
     "name": "stdout",
     "output_type": "stream",
     "text": [
      "Trainable parameters: 566338\n"
     ]
    }
   ],
   "source": [
    "import torch.nn as nn\n",
    "\n",
    "class MLP(nn.Module):\n",
    "    def __init__(self, input_dim, num_classes):\n",
    "        super().__init__()\n",
    "        self.hidden1= nn.Linear(input_dim, 512)\n",
    "        self.act1= nn.ReLU()\n",
    "        self.dropout1= nn.Dropout(0.5)\n",
    "        self.hidden2= nn.Linear(512,256)\n",
    "        self.act2= nn.ReLU()\n",
    "        self.hidden3= nn.Linear(256,128)\n",
    "        self.act3= nn.ReLU()\n",
    "        self.hidden4= nn.Linear(128,64)\n",
    "        self.act4= nn.ReLU()\n",
    "        self.output= nn.Linear(64, num_classes)\n",
    "\n",
    "    def forward(self, x):\n",
    "        x= self.act1(self.hidden1(x))\n",
    "        x= self.act2(self.hidden2(x))\n",
    "        x= self.act3(self.hidden3(x))\n",
    "        x= self.act4(self.hidden4(x))\n",
    "        return self.output(x)\n",
    "\n",
    "\n",
    "input_dim= X_train.shape[1]\n",
    "model= MLP(input_dim,2)\n",
    "param_count = 0\n",
    "\n",
    "for parameter in model.parameters():\n",
    "    if parameter.requires_grad:\n",
    "        num_params= parameter.numel()\n",
    "        param_count+= num_params\n",
    "print(f\"Trainable parameters: {param_count}\")"
   ]
  },
  {
   "cell_type": "markdown",
   "metadata": {},
   "source": [
    "# Train the model with 10 epochs and create the best-performing model (checkpoint.pt) "
   ]
  },
  {
   "cell_type": "code",
   "execution_count": 60,
   "metadata": {},
   "outputs": [
    {
     "name": "stdout",
     "output_type": "stream",
     "text": [
      "Epoch  1 → Val Loss: 0.4455, Val Acc: 0.8656\n",
      "Epoch  2 → Val Loss: 0.4590, Val Acc: 0.8656\n",
      "Epoch  3 → Val Loss: 0.4677, Val Acc: 0.8649\n",
      "Epoch  4 → Val Loss: 0.4788, Val Acc: 0.8656\n",
      "Epoch  5 → Val Loss: 0.4885, Val Acc: 0.8649\n",
      "Epoch  6 → Val Loss: 0.4959, Val Acc: 0.8634\n",
      "Epoch  7 → Val Loss: 0.5026, Val Acc: 0.8656\n",
      "Epoch  8 → Val Loss: 0.5128, Val Acc: 0.8649\n",
      "Epoch  9 → Val Loss: 0.5233, Val Acc: 0.8649\n",
      "Epoch 10 → Val Loss: 0.5287, Val Acc: 0.8627\n"
     ]
    }
   ],
   "source": [
    "import torch.optim as optim\n",
    "\n",
    "device= torch.device('cuda' if torch.cuda.is_available() else 'cpu')\n",
    "model.to(device)\n",
    "criterion= nn.CrossEntropyLoss()\n",
    "optimizer= optim.Adam(model.parameters(),lr=1e-4)\n",
    "best_val_acc= 0.0\n",
    "history= {'epoch':[], 'val_loss':[], 'val_acc':[]}\n",
    "\n",
    "for epoch in range(1, 11):\n",
    "    model.train()\n",
    "    for xb, yb in train_loader:\n",
    "        xb, yb = xb.to(device), yb.to(device)\n",
    "        optimizer.zero_grad()\n",
    "        loss = criterion(model(xb), yb)\n",
    "        loss.backward()\n",
    "        optimizer.step()\n",
    "\n",
    "    # validation\n",
    "    model.eval()\n",
    "    total, correct, loss_sum = 0, 0, 0.0\n",
    "    with torch.no_grad():\n",
    "        for xb, yb in val_loader:\n",
    "            xb, yb = xb.to(device), yb.to(device)\n",
    "            out = model(xb)\n",
    "            loss_sum += criterion(out, yb).item() * xb.size(0)\n",
    "            preds = out.argmax(dim=1)\n",
    "            correct += (preds == yb).sum().item()\n",
    "            total += xb.size(0)\n",
    "\n",
    "    val_acc  = correct / total\n",
    "    val_loss = loss_sum / total\n",
    "    history['epoch'].append(epoch)\n",
    "    history['val_acc'].append(val_acc)\n",
    "    history['val_loss'].append(val_loss)\n",
    "\n",
    "    # checkpoint\n",
    "    if val_acc > best_val_acc:\n",
    "        best_val_acc = val_acc\n",
    "        torch.save(model.state_dict(), 'checkpoint.pt')\n",
    "\n",
    "    print(f\"Epoch {epoch:2d} → Val Loss: {val_loss:.4f}, Val Acc: {val_acc:.4f}\")"
   ]
  },
  {
   "cell_type": "code",
   "execution_count": 61,
   "metadata": {},
   "outputs": [
    {
     "name": "stdout",
     "output_type": "stream",
     "text": [
      "Test Accuracy: 85.83%\n"
     ]
    },
    {
     "name": "stderr",
     "output_type": "stream",
     "text": [
      "/var/folders/sq/6nfr6ldx231fzstwl4xt5cs80000gn/T/ipykernel_64986/1448249633.py:2: FutureWarning: You are using `torch.load` with `weights_only=False` (the current default value), which uses the default pickle module implicitly. It is possible to construct malicious pickle data which will execute arbitrary code during unpickling (See https://github.com/pytorch/pytorch/blob/main/SECURITY.md#untrusted-models for more details). In a future release, the default value for `weights_only` will be flipped to `True`. This limits the functions that could be executed during unpickling. Arbitrary objects will no longer be allowed to be loaded via this mode unless they are explicitly allowlisted by the user via `torch.serialization.add_safe_globals`. We recommend you start setting `weights_only=True` for any use case where you don't have full control of the loaded file. Please open an issue on GitHub for any issues related to this experimental feature.\n",
      "  model.load_state_dict(torch.load('checkpoint.pt'))\n"
     ]
    }
   ],
   "source": [
    "# load best and test\n",
    "model.load_state_dict(torch.load('checkpoint.pt'))\n",
    "model.eval()\n",
    "total, correct = 0, 0\n",
    "with torch.no_grad():\n",
    "    for xb, yb in test_loader:\n",
    "        xb, yb = xb.to(device), yb.to(device)\n",
    "        preds = model(xb).argmax(dim=1)\n",
    "        correct += (preds == yb).sum().item()\n",
    "        total += xb.size(0)\n",
    "test_acc = correct/total * 100\n",
    "print(f\"Test Accuracy: {test_acc:.2f}%\")"
   ]
  },
  {
   "cell_type": "code",
   "execution_count": 62,
   "metadata": {},
   "outputs": [
    {
     "data": {
      "image/png": "[encoded data removed]",
      "text/plain": [
       "<Figure size 640x480 with 1 Axes>"
      ]
     },
     "metadata": {},
     "output_type": "display_data"
    }
   ],
   "source": [
    "import matplotlib.pyplot as plt\n",
    "\n",
    "plt.figure()\n",
    "plt.plot(history['epoch'], history['val_acc'], label='Val Accuracy')\n",
    "plt.plot(history['epoch'], history['val_loss'], label='Val Loss')\n",
    "plt.xlabel('Epoch')\n",
    "plt.ylabel('Value')\n",
    "plt.title('Validation Accuracy / Loss over Epochs')\n",
    "plt.legend()\n",
    "plt.show()"
   ]
  },
  {
   "cell_type": "markdown",
   "metadata": {},
   "source": [
    "# Quantization"
   ]
  },
  {
   "cell_type": "markdown",
   "metadata": {},
   "source": [
    "# Dynamic Quantization (INT8 via PyTorch)"
   ]
  },
  {
   "cell_type": "code",
   "execution_count": 63,
   "metadata": {},
   "outputs": [],
   "source": [
    "import torch.quantization\n",
    "import os\n",
    "import time\n",
    "import copy\n",
    "\n",
    "orig_size= os.path.getsize('checkpoint.pt') / 1e6\n",
    "start= time.time()\n",
    "with torch.no_grad():\n",
    "    for xb, _ in test_loader:\n",
    "        xb= xb.to(device)\n",
    "        _ = model(xb)\n",
    "orig_time= (time.time() - start)/len(test_ds)*1000 "
   ]
  },
  {
   "cell_type": "code",
   "execution_count": 65,
   "metadata": {},
   "outputs": [
    {
     "name": "stderr",
     "output_type": "stream",
     "text": [
      "[W419 22:52:38.738838000 qlinear_dynamic.cpp:251] Warning: Currently, qnnpack incorrectly ignores reduce_range when it is set to true; this may change in a future release. (function operator())\n"
     ]
    }
   ],
   "source": [
    "torch.backends.quantized.engine = 'qnnpack'\n",
    "dyn_model= torch.quantization.quantize_dynamic(\n",
    "    copy.deepcopy(model), {nn.Linear}, dtype=torch.qint8\n",
    ")\n",
    "torch.save(dyn_model.state_dict(), 'dynamic_model.pt')\n",
    "dyn_size= os.path.getsize('dynamic_model.pt') / 1e6\n",
    "start= time.time()\n",
    "with torch.no_grad():\n",
    "    for xb, _ in test_loader:\n",
    "        xb= xb.to(device)\n",
    "        _ = dyn_model(xb)\n",
    "dyn_time= (time.time() - start)/len(test_ds) * 1000"
   ]
  },
  {
   "cell_type": "code",
   "execution_count": 66,
   "metadata": {},
   "outputs": [],
   "source": [
    "half_model = copy.deepcopy(model).half().to(device)\n",
    "torch.save(half_model.state_dict(), 'half_model.pt')\n",
    "half_size = os.path.getsize('half_model.pt') / 1e6\n",
    "start = time.time()\n",
    "with torch.no_grad():\n",
    "    for xb, _ in test_loader:\n",
    "        xb = xb.to(device).half()\n",
    "        _  = half_model(xb)\n",
    "half_time = (time.time() - start) / len(test_ds) * 1000"
   ]
  },
  {
   "cell_type": "code",
   "execution_count": 67,
   "metadata": {},
   "outputs": [
    {
     "name": "stdout",
     "output_type": "stream",
     "text": [
      "\n",
      "Quantization Results:\n",
      "Model Name  Accuracy (%)  Storage (MB)  Inference Time (ms/sample)\n",
      "  Original      85.83196      2.269154                    0.049798\n",
      "   Dynamic      85.83196      0.576298                    0.110348\n",
      "      Half      85.83196      1.136482                    0.026976\n"
     ]
    }
   ],
   "source": [
    "results = pd.DataFrame([\n",
    "    {'Model Name':'Original','Accuracy (%)': test_acc,'Storage (MB)': orig_size,'Inference Time (ms/sample)': orig_time},\n",
    "    {'Model Name':'Dynamic','Accuracy (%)': test_acc,'Storage (MB)': dyn_size,'Inference Time (ms/sample)': dyn_time},\n",
    "    {'Model Name':'Half','Accuracy (%)': test_acc,'Storage (MB)': half_size,'Inference Time (ms/sample)': half_time},\n",
    "])\n",
    "\n",
    "print(\"\\nQuantization Results:\")\n",
    "print(results.to_string(index=False))"
   ]
  }
 ],
 "metadata": {
  "kernelspec": {
   "display_name": "Python 3",
   "language": "python",
   "name": "python3"
  },
  "language_info": {
   "codemirror_mode": {
    "name": "ipython",
    "version": 3
   },
   "file_extension": ".py",
   "mimetype": "text/x-python",
   "name": "python",
   "nbconvert_exporter": "python",
   "pygments_lexer": "ipython3",
   "version": "3.9.6"
  },
  "orig_nbformat": 4
 },
 "nbformat": 4,
 "nbformat_minor": 2
}
